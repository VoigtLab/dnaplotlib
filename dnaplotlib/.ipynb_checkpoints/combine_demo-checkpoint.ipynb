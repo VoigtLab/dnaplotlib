{
 "cells": [
  {
   "cell_type": "markdown",
   "metadata": {},
   "source": [
    "# Import Packages"
   ]
  },
  {
   "cell_type": "code",
   "execution_count": 1,
   "metadata": {},
   "outputs": [],
   "source": [
    "# import sbol, matplotlib.pyplot, datatype, draw"
   ]
  },
  {
   "cell_type": "markdown",
   "metadata": {},
   "source": [
    "# Rendering Const"
   ]
  },
  {
   "cell_type": "code",
   "execution_count": 2,
   "metadata": {},
   "outputs": [],
   "source": [
    "# CONST\n",
    "XMIN, XMAX = -50., 50.\n",
    "YMIN, YMAX = -50., 50."
   ]
  },
  {
   "cell_type": "markdown",
   "metadata": {},
   "source": [
    "# Create SBOL Design"
   ]
  },
  {
   "cell_type": "code",
   "execution_count": 3,
   "metadata": {},
   "outputs": [],
   "source": [
    "# create design \n",
    "\n",
    "# create three modules \n",
    "\n",
    "# module1a - parts & other part\n",
    "\n",
    "# module1b - parts & other part\n",
    "\n",
    "# module1 - other parts\n",
    "\n",
    "# add interaction "
   ]
  },
  {
   "cell_type": "markdown",
   "metadata": {},
   "source": [
    "# Render Funcs"
   ]
  },
  {
   "cell_type": "code",
   "execution_count": 13,
   "metadata": {},
   "outputs": [
    {
     "name": "stdout",
     "output_type": "stream",
     "text": [
      "[{'facecolor': 'lime', 'target': 'p1c', 'size': 1.5}, {'target': 'rep1', 'facecolor': 'lime'}, {'facecolor': 'yellow', 'target': 'p2c', 'size': 1.5}, {'target': 'rep2', 'facecolor': 'yellow'}]\n",
      "[{'facecolor': 'lime', 'target': 'p1c', 'size': 1.5}, {'target': 'rep1', 'facecolor': 'lime'}, {'facecolor': 'yellow', 'target': 'p2c', 'size': 1.5}, {'target': 'rep2', 'facecolor': 'yellow'}]\n",
      "draw module func\n",
      "[{'facecolor': 'lime', 'target': 'p1c', 'size': 1.5}, {'target': 'rep1', 'facecolor': 'lime'}, {'facecolor': 'yellow', 'target': 'p2c', 'size': 1.5}, {'target': 'rep2', 'facecolor': 'yellow'}]\n",
      "draw module func\n",
      "[{'facecolor': 'lime', 'target': 'p1c', 'size': 1.5}, {'target': 'rep1', 'facecolor': 'lime'}, {'facecolor': 'yellow', 'target': 'p2c', 'size': 1.5}, {'target': 'rep2', 'facecolor': 'yellow'}]\n",
      "draw module func\n",
      "[{'facecolor': 'lime', 'target': 'p1c', 'size': 1.5}, {'target': 'rep1', 'facecolor': 'lime'}, {'facecolor': 'yellow', 'target': 'p2c', 'size': 1.5}, {'target': 'rep2', 'facecolor': 'yellow'}]\n"
     ]
    },
    {
     "data": {
      "text/plain": [
       "<function matplotlib.pyplot.show>"
      ]
     },
     "execution_count": 13,
     "metadata": {},
     "output_type": "execute_result"
    },
    {
     "data": {
      "image/png": "[encoded data removed]",
      "text/plain": [
       "<Figure size 432x288 with 1 Axes>"
      ]
     },
     "metadata": {
      "needs_background": "light"
     },
     "output_type": "display_data"
    }
   ],
   "source": [
    "# get module frames\n",
    "\n",
    "# set axis\n",
    "\n",
    "# draw modules and interactions\n",
    "\n",
    "# don't forget plt.show()! "
   ]
  },
  {
   "cell_type": "code",
   "execution_count": null,
   "metadata": {},
   "outputs": [],
   "source": []
  },
  {
   "cell_type": "code",
   "execution_count": null,
   "metadata": {},
   "outputs": [],
   "source": []
  }
 ],
 "metadata": {
  "kernelspec": {
   "display_name": "Python 2",
   "language": "python",
   "name": "python2"
  },
  "language_info": {
   "codemirror_mode": {
    "name": "ipython",
    "version": 2
   },
   "file_extension": ".py",
   "mimetype": "text/x-python",
   "name": "python",
   "nbconvert_exporter": "python",
   "pygments_lexer": "ipython2",
   "version": "2.7.15"
  }
 },
 "nbformat": 4,
 "nbformat_minor": 2
}
