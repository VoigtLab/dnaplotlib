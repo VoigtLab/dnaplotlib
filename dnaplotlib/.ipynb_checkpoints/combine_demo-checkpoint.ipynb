{
 "cells": [
  {
   "cell_type": "markdown",
   "metadata": {},
   "source": [
    "# Import Packages"
   ]
  },
  {
   "cell_type": "code",
   "execution_count": 10,
   "metadata": {},
   "outputs": [],
   "source": [
    "# import sbol, matplotlib.pyplot, datatype, draw\n",
    "import sbol, matplotlib.pyplot as plt\n",
    "import datatype as dt, draw"
   ]
  },
  {
   "cell_type": "markdown",
   "metadata": {},
   "source": [
    "# Rendering Const"
   ]
  },
  {
   "cell_type": "code",
   "execution_count": 2,
   "metadata": {},
   "outputs": [],
   "source": [
    "# CONST\n",
    "XMIN, XMAX = -60., 60.\n",
    "YMIN, YMAX = -60., 60."
   ]
  },
  {
   "cell_type": "markdown",
   "metadata": {},
   "source": [
    "# Create SBOL Design"
   ]
  },
  {
   "cell_type": "code",
   "execution_count": 6,
   "metadata": {},
   "outputs": [],
   "source": [
    "# create design \n",
    "design = dt.Design('demo')\n",
    "\n",
    "# create three modules \n",
    "module1 = dt.Module(design, 'm1')\n",
    "module1a = module1.add_module('m1a')\n",
    "module1b = module1.add_module('m1b')\n",
    "design.add_module(module1)\n",
    "\n",
    "# module1a - parts & other part\n",
    "part1p = dt.Part(module1a, 'p1p', 'Promoter')\n",
    "part1c = dt.Part(module1a, 'p1c', 'CDS')\n",
    "part1t = dt.Part(module1a, 'p1t', 'Terminator')\n",
    "rna1 = dt.Part(module1a, 'mrna1', 'RNA')\n",
    "module1a.add_strand_part([part1p, part1c, part1t])\n",
    "module1a.add_non_strand_part(rna1)\n",
    "\n",
    "# module1b - parts & other part\n",
    "part2p = dt.Part(module1b, 'p2p', 'Promoter')\n",
    "part2c = dt.Part(module1b, 'p2c', 'CDS')\n",
    "part2t = dt.Part(module1b, 'p2t', 'Terminator')\n",
    "rna2 = dt.Part(module1b, 'mrna2', 'RNA')\n",
    "module1b.add_strand_part([part2p, part2c, part2t])\n",
    "module1b.add_non_strand_part(rna2)\n",
    "\n",
    "# module1 - other parts\n",
    "rep1 = dt.Part(module1, 'rep1', 'Macromolecule')\n",
    "rep2 = dt.Part(module1, 'rep2', 'Macromolecule')\n",
    "module1.add_strand_part([rep1, rep2])\n",
    "\n",
    "# add interaction \n",
    "design.add_interaction([\n",
    "    dt.Interaction('process', rna1, rep1),\n",
    "    dt.Interaction('inhibition', rep1, part2p),\n",
    "    dt.Interaction('process', rna2, rep2),\n",
    "    dt.Interaction('inhibition', rep2, part1p)\n",
    "])"
   ]
  },
  {
   "cell_type": "markdown",
   "metadata": {},
   "source": [
    "# Render Funcs"
   ]
  },
  {
   "cell_type": "code",
   "execution_count": 13,
   "metadata": {},
   "outputs": [
    {
     "ename": "AttributeError",
     "evalue": "'module' object has no attribute 'draw_design'",
     "output_type": "error",
     "traceback": [
      "\u001b[0;31m---------------------------------------------------------------------------\u001b[0m",
      "\u001b[0;31mAttributeError\u001b[0m                            Traceback (most recent call last)",
      "\u001b[0;32m<ipython-input-13-583c71b38025>\u001b[0m in \u001b[0;36m<module>\u001b[0;34m()\u001b[0m\n\u001b[1;32m      6\u001b[0m \u001b[0;34m\u001b[0m\u001b[0m\n\u001b[1;32m      7\u001b[0m \u001b[0;31m# draw modules and interactions\u001b[0m\u001b[0;34m\u001b[0m\u001b[0;34m\u001b[0m\u001b[0m\n\u001b[0;32m----> 8\u001b[0;31m \u001b[0mdraw\u001b[0m\u001b[0;34m.\u001b[0m\u001b[0mdraw_design\u001b[0m\u001b[0;34m(\u001b[0m\u001b[0max\u001b[0m\u001b[0;34m,\u001b[0m \u001b[0mdesign\u001b[0m\u001b[0;34m)\u001b[0m\u001b[0;34m\u001b[0m\u001b[0m\n\u001b[0m\u001b[1;32m      9\u001b[0m \u001b[0;34m\u001b[0m\u001b[0m\n\u001b[1;32m     10\u001b[0m \u001b[0;31m# don't forget plt.show()!\u001b[0m\u001b[0;34m\u001b[0m\u001b[0;34m\u001b[0m\u001b[0m\n",
      "\u001b[0;31mAttributeError\u001b[0m: 'module' object has no attribute 'draw_design'"
     ]
    },
    {
     "data": {
      "image/png": "[encoded data removed]",
      "text/plain": [
       "<Figure size 432x288 with 1 Axes>"
      ]
     },
     "metadata": {
      "needs_background": "light"
     },
     "output_type": "display_data"
    }
   ],
   "source": [
    "# set axis\n",
    "fig, ax = plt.subplots()\n",
    "ax.set_xlim(XMIN, XMAX)\n",
    "ax.set_ylim(YMIN, YMAX)\n",
    "ax.set_axis_off()\n",
    "\n",
    "# draw modules and interactions\n",
    "draw.draw_design(ax, design)\n",
    "\n",
    "# don't forget plt.show()! \n",
    "plt.show()"
   ]
  },
  {
   "cell_type": "code",
   "execution_count": null,
   "metadata": {},
   "outputs": [],
   "source": []
  }
 ],
 "metadata": {
  "kernelspec": {
   "display_name": "Python 2",
   "language": "python",
   "name": "python2"
  },
  "language_info": {
   "codemirror_mode": {
    "name": "ipython",
    "version": 2
   },
   "file_extension": ".py",
   "mimetype": "text/x-python",
   "name": "python",
   "nbconvert_exporter": "python",
   "pygments_lexer": "ipython2",
   "version": "2.7.15"
  }
 },
 "nbformat": 4,
 "nbformat_minor": 2
}
