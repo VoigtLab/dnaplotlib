{
 "cells": [
  {
   "cell_type": "markdown",
   "metadata": {},
   "source": [
    "# Import Packages"
   ]
  },
  {
   "cell_type": "code",
   "execution_count": 4,
   "metadata": {},
   "outputs": [],
   "source": [
    "# import sbol, matplotlib.pyplot, datatype, draw\n",
    "import sbol, matplotlib.pyplot as plt\n",
    "import datatype as dt, draw"
   ]
  },
  {
   "cell_type": "markdown",
   "metadata": {},
   "source": [
    "# Rendering Const"
   ]
  },
  {
   "cell_type": "code",
   "execution_count": 5,
   "metadata": {},
   "outputs": [],
   "source": [
    "# CONST\n",
    "XMIN, XMAX = -60., 60.\n",
    "YMIN, YMAX = -60., 60."
   ]
  },
  {
   "cell_type": "markdown",
   "metadata": {},
   "source": [
    "# Create SBOL Design"
   ]
  },
  {
   "cell_type": "code",
   "execution_count": 6,
   "metadata": {},
   "outputs": [],
   "source": [
    "# create design \n",
    "design = dt.Design('demo')\n",
    "\n",
    "# create three modules \n",
    "module1 = dt.Module(design, 'module1')\n",
    "module1a = module1.add_module('module1a')\n",
    "module1b = module1.add_module('module1b')\n",
    "design.add_module(module1)\n",
    "\n",
    "# module1a - parts & other part\n",
    "part1p = dt.Part(module1a,'p1p', 'Promoter') \n",
    "part1c = dt.Part(module1a, 'p1c', 'CDS')\n",
    "part1t = dt.Part(module1a, 'p1t', 'Terminator')\n",
    "op1 = dt.Part(module1a, 'rna1', 'RNA')\n",
    "module1a.add_part([part1p, part1c, part1t])\n",
    "module1a.add_other_part(op1)\n",
    "\n",
    "# module1b - parts & other part\n",
    "part2p = dt.Part(module1a,'p2p', 'Promoter') \n",
    "part2c = dt.Part(module1a, 'p2c', 'CDS')\n",
    "part2t = dt.Part(module1a, 'p2t', 'Terminator')\n",
    "op2 = dt.Part(module1a, 'rna2', 'RNA')\n",
    "module1b.add_part([part2p, part2c, part2t])\n",
    "module1b.add_other_part(op2)\n",
    "\n",
    "# module1 - other parts\n",
    "rep1 = dt.Part(module1, 'rep1', 'Macromolecule')\n",
    "rep2 = dt.Part(module1, 'rep2', 'Macromolecule')\n",
    "module1.add_other_part([rep1, rep2])\n",
    "\n",
    "# add interaction \n",
    "design.add_interaction([\n",
    "    dt.Interaction('process', op1, rep1),\n",
    "    dt.Interaction('inhibition', rep1, part2p),\n",
    "    dt.Interaction('process', op2, rep2),\n",
    "    dt.Interaction('inhibition', rep2, part1p)\n",
    "])\n"
   ]
  },
  {
   "cell_type": "markdown",
   "metadata": {},
   "source": [
    "# Render Funcs"
   ]
  },
  {
   "cell_type": "code",
   "execution_count": 9,
   "metadata": {},
   "outputs": [
    {
     "data": {
      "text/plain": [
       "<function matplotlib.pyplot.show>"
      ]
     },
     "execution_count": 9,
     "metadata": {},
     "output_type": "execute_result"
    },
    {
     "data": {
      "image/png": "[encoded data removed]",
      "text/plain": [
       "<Figure size 432x288 with 1 Axes>"
      ]
     },
     "metadata": {
      "needs_background": "light"
     },
     "output_type": "display_data"
    }
   ],
   "source": [
    "# get module frames\n",
    "m_frames = draw.get_module_frames(design.modules)\n",
    "\n",
    "# set axis\n",
    "fig, ax = plt.subplots()\n",
    "ax.set_xlim(XMIN, XMAX)\n",
    "ax.set_ylim(YMIN, YMAX)\n",
    "ax.set_axis_off()\n",
    "\n",
    "user_options = [\n",
    "    {\n",
    "        'target': 'p1c',\n",
    "        'size': 1.5,\n",
    "        'facecolor': 'green'\n",
    "    },\n",
    "    {\n",
    "        'target': 'rep1',\n",
    "        'facecolor': 'green'\n",
    "    },\n",
    "    {\n",
    "        'target': 'p2c',\n",
    "        'size': 1.5,\n",
    "        'facecolor': 'yellow'\n",
    "    },\n",
    "    {\n",
    "        'target': 'rep2',\n",
    "        'facecolor': 'yellow'\n",
    "    }\n",
    "]\n",
    "\n",
    "# draw modules and interactions\n",
    "draw.draw_all_modules(ax, m_frames, design.modules, user_params=user_options)\n",
    "draw.draw_all_interactions(ax, design.interactions)\n",
    "\n",
    "# don't forget plt.show()! \n",
    "plt.show"
   ]
  },
  {
   "cell_type": "code",
   "execution_count": null,
   "metadata": {},
   "outputs": [],
   "source": []
  }
 ],
 "metadata": {
  "kernelspec": {
   "display_name": "Python 2",
   "language": "python",
   "name": "python2"
  },
  "language_info": {
   "codemirror_mode": {
    "name": "ipython",
    "version": 2
   },
   "file_extension": ".py",
   "mimetype": "text/x-python",
   "name": "python",
   "nbconvert_exporter": "python",
   "pygments_lexer": "ipython2",
   "version": "2.7.15"
  }
 },
 "nbformat": 4,
 "nbformat_minor": 2
}
