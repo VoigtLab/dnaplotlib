{
 "cells": [
  {
   "cell_type": "markdown",
   "metadata": {},
   "source": [
    "# Import Packages"
   ]
  },
  {
   "cell_type": "code",
   "execution_count": 6,
   "metadata": {},
   "outputs": [],
   "source": [
    "# import sbol, matplotlib.pyplot, datatype, draw\n",
    "import sbol, matplotlib.pyplot as plt\n",
    "import draw, datatype as dt"
   ]
  },
  {
   "cell_type": "markdown",
   "metadata": {},
   "source": [
    "# Rendering Const"
   ]
  },
  {
   "cell_type": "code",
   "execution_count": 7,
   "metadata": {},
   "outputs": [],
   "source": [
    "# CONST\n",
    "XMIN, XMAX = -50., 50.\n",
    "YMIN, YMAX = -50., 50."
   ]
  },
  {
   "cell_type": "markdown",
   "metadata": {},
   "source": [
    "# Create SBOL Design"
   ]
  },
  {
   "cell_type": "code",
   "execution_count": 12,
   "metadata": {},
   "outputs": [],
   "source": [
    "# create design \n",
    "design = dt.Design('demo')\n",
    "\n",
    "# create three modules \n",
    "module1 = dt.Module(design, 'module1')\n",
    "module1a = module1.add_module('module1a')\n",
    "module1b = module1.add_module('module1b')\n",
    "design.add_module(module1)\n",
    "\n",
    "# module1a - parts & other part\n",
    "part1p = dt.Part(module1a, 'p1p', 'Promoter')\n",
    "part1c = dt.Part(module1a, 'p1c', 'CDS')\n",
    "part1t = dt.Part(module1a, 'p1t', 'Terminator')\n",
    "r1 = dt.Part(module1a, 'mrna1', 'RNA')\n",
    "module1a.add_strand_part([part1p, part1c, part1t])\n",
    "module1a.add_non_strand_part(r1)\n",
    "\n",
    "# module1b - parts & other part\n",
    "part2p = dt.Part(module1b, 'p2p', 'Promoter')\n",
    "part2c = dt.Part(module1b, 'p2c', 'CDS')\n",
    "part2t = dt.Part(module1b, 'p2t', 'Terminator')\n",
    "r2 = dt.Part(module1b, 'mrna2', 'RNA')\n",
    "module1b.add_strand_part([part2p, part2c, part2t])\n",
    "module1b.add_non_strand_part(r2)\n",
    "\n",
    "# module1 - other parts\n",
    "rep1 = dt.Part(module1, 'rep1', 'Macromolecule')\n",
    "rep2 = dt.Part(module1, 'rep2', 'Macromolecule')\n",
    "module1.add_non_strand_part([rep1, rep2])\n",
    "\n",
    "# add interaction \n",
    "design.add_interaction([\n",
    "    dt.Interaction('process', r1.name, rep1.name),\n",
    "    dt.Interaction('inhibition', rep1.name, part2p.name),\n",
    "    dt.Interaction('process', r2.name, rep2.name),\n",
    "    dt.Interaction('inhibition', rep2.name, part1p.name),\n",
    "])"
   ]
  },
  {
   "cell_type": "markdown",
   "metadata": {},
   "source": [
    "# Render Funcs"
   ]
  },
  {
   "cell_type": "code",
   "execution_count": 15,
   "metadata": {},
   "outputs": [
    {
     "ename": "AttributeError",
     "evalue": "'str' object has no attribute 'frame'",
     "output_type": "error",
     "traceback": [
      "\u001b[0;31m---------------------------------------------------------------------------\u001b[0m",
      "\u001b[0;31mAttributeError\u001b[0m                            Traceback (most recent call last)",
      "\u001b[0;32m<ipython-input-15-583c71b38025>\u001b[0m in \u001b[0;36m<module>\u001b[0;34m()\u001b[0m\n\u001b[1;32m      6\u001b[0m \u001b[0;34m\u001b[0m\u001b[0m\n\u001b[1;32m      7\u001b[0m \u001b[0;31m# draw modules and interactions\u001b[0m\u001b[0;34m\u001b[0m\u001b[0;34m\u001b[0m\u001b[0m\n\u001b[0;32m----> 8\u001b[0;31m \u001b[0mdraw\u001b[0m\u001b[0;34m.\u001b[0m\u001b[0mdraw_design\u001b[0m\u001b[0;34m(\u001b[0m\u001b[0max\u001b[0m\u001b[0;34m,\u001b[0m \u001b[0mdesign\u001b[0m\u001b[0;34m)\u001b[0m\u001b[0;34m\u001b[0m\u001b[0m\n\u001b[0m\u001b[1;32m      9\u001b[0m \u001b[0;34m\u001b[0m\u001b[0m\n\u001b[1;32m     10\u001b[0m \u001b[0;31m# don't forget plt.show()!\u001b[0m\u001b[0;34m\u001b[0m\u001b[0;34m\u001b[0m\u001b[0m\n",
      "\u001b[0;32m/Users/sunwookang/project/dnaplotlib/dnaplotlib/draw.pyc\u001b[0m in \u001b[0;36mdraw_design\u001b[0;34m(ax, des, user_params)\u001b[0m\n\u001b[1;32m    425\u001b[0m         \u001b[0mm_frames\u001b[0m \u001b[0;34m=\u001b[0m \u001b[0mget_module_frames\u001b[0m\u001b[0;34m(\u001b[0m\u001b[0mdes\u001b[0m\u001b[0;34m.\u001b[0m\u001b[0mmodules\u001b[0m\u001b[0;34m)\u001b[0m\u001b[0;34m\u001b[0m\u001b[0m\n\u001b[1;32m    426\u001b[0m         \u001b[0mdraw_all_modules\u001b[0m\u001b[0;34m(\u001b[0m\u001b[0max\u001b[0m\u001b[0;34m,\u001b[0m \u001b[0mm_frames\u001b[0m\u001b[0;34m,\u001b[0m \u001b[0mdes\u001b[0m\u001b[0;34m.\u001b[0m\u001b[0mmodules\u001b[0m\u001b[0;34m,\u001b[0m \u001b[0muser_params\u001b[0m\u001b[0;34m=\u001b[0m\u001b[0muser_params\u001b[0m\u001b[0;34m)\u001b[0m\u001b[0;34m\u001b[0m\u001b[0m\n\u001b[0;32m--> 427\u001b[0;31m         \u001b[0mdraw_all_interactions\u001b[0m\u001b[0;34m(\u001b[0m\u001b[0max\u001b[0m\u001b[0;34m,\u001b[0m \u001b[0mdes\u001b[0m\u001b[0;34m.\u001b[0m\u001b[0minteractions\u001b[0m\u001b[0;34m)\u001b[0m\u001b[0;34m\u001b[0m\u001b[0m\n\u001b[0m",
      "\u001b[0;32m/Users/sunwookang/project/dnaplotlib/dnaplotlib/draw.pyc\u001b[0m in \u001b[0;36mdraw_all_interactions\u001b[0;34m(ax, all_intercn, colors, user_specified_y_offset)\u001b[0m\n\u001b[1;32m    397\u001b[0m         \u001b[0;32mfor\u001b[0m \u001b[0mintercn\u001b[0m \u001b[0;32min\u001b[0m \u001b[0mall_intercn\u001b[0m\u001b[0;34m:\u001b[0m\u001b[0;34m\u001b[0m\u001b[0m\n\u001b[1;32m    398\u001b[0m                 \u001b[0;32mif\u001b[0m \u001b[0mintercn\u001b[0m\u001b[0;34m.\u001b[0m\u001b[0mtype\u001b[0m \u001b[0;34m!=\u001b[0m \u001b[0;34m'degradation'\u001b[0m\u001b[0;34m:\u001b[0m\u001b[0;34m\u001b[0m\u001b[0m\n\u001b[0;32m--> 399\u001b[0;31m                         \u001b[0my_offset\u001b[0m\u001b[0;34m,\u001b[0m \u001b[0mstart_y\u001b[0m\u001b[0;34m,\u001b[0m \u001b[0mfrom_y\u001b[0m\u001b[0;34m,\u001b[0m \u001b[0mcoordlist\u001b[0m \u001b[0;34m=\u001b[0m \u001b[0mget_valid_offset\u001b[0m\u001b[0;34m(\u001b[0m\u001b[0mcoordlist\u001b[0m\u001b[0;34m,\u001b[0m \u001b[0mintercn\u001b[0m\u001b[0;34m.\u001b[0m\u001b[0mtype\u001b[0m\u001b[0;34m,\u001b[0m \u001b[0mintercn\u001b[0m\u001b[0;34m.\u001b[0m\u001b[0mpart_start\u001b[0m\u001b[0;34m,\u001b[0m \u001b[0mintercn\u001b[0m\u001b[0;34m.\u001b[0m\u001b[0mpart_end\u001b[0m\u001b[0;34m,\u001b[0m \u001b[0muser_specified_y_offset\u001b[0m\u001b[0;34m)\u001b[0m\u001b[0;34m\u001b[0m\u001b[0m\n\u001b[0m\u001b[1;32m    400\u001b[0m \u001b[0;34m\u001b[0m\u001b[0m\n\u001b[1;32m    401\u001b[0m                         \u001b[0;31m# distinguish between 3 part / 5 part interaction - assume one element in ends\u001b[0m\u001b[0;34m\u001b[0m\u001b[0;34m\u001b[0m\u001b[0m\n",
      "\u001b[0;32m/Users/sunwookang/project/dnaplotlib/dnaplotlib/draw.pyc\u001b[0m in \u001b[0;36mget_valid_offset\u001b[0;34m(c_list, i_type, start_glyph, from_glyph, user_specified)\u001b[0m\n\u001b[1;32m    373\u001b[0m \u001b[0;31m# helper function for draw_all_interaction\u001b[0m\u001b[0;34m\u001b[0m\u001b[0;34m\u001b[0m\u001b[0m\n\u001b[1;32m    374\u001b[0m \u001b[0;32mdef\u001b[0m \u001b[0mget_valid_offset\u001b[0m\u001b[0;34m(\u001b[0m\u001b[0mc_list\u001b[0m\u001b[0;34m,\u001b[0m \u001b[0mi_type\u001b[0m\u001b[0;34m,\u001b[0m \u001b[0mstart_glyph\u001b[0m\u001b[0;34m,\u001b[0m \u001b[0mfrom_glyph\u001b[0m\u001b[0;34m,\u001b[0m \u001b[0muser_specified\u001b[0m\u001b[0;34m)\u001b[0m\u001b[0;34m:\u001b[0m\u001b[0;34m\u001b[0m\u001b[0m\n\u001b[0;32m--> 375\u001b[0;31m         \u001b[0mstart_y\u001b[0m \u001b[0;34m=\u001b[0m \u001b[0mstart_glyph\u001b[0m\u001b[0;34m.\u001b[0m\u001b[0mframe\u001b[0m\u001b[0;34m.\u001b[0m\u001b[0morigin\u001b[0m\u001b[0;34m[\u001b[0m\u001b[0;36m1\u001b[0m\u001b[0;34m]\u001b[0m \u001b[0;34m+\u001b[0m \u001b[0;34m(\u001b[0m\u001b[0mGLYPHSIZE\u001b[0m \u001b[0;34m-\u001b[0m \u001b[0;36m2\u001b[0m \u001b[0;34m*\u001b[0m \u001b[0mRECURSE_DECREMENT\u001b[0m \u001b[0;34m*\u001b[0m \u001b[0mstart_glyph\u001b[0m\u001b[0;34m.\u001b[0m\u001b[0mparent_module\u001b[0m\u001b[0;34m.\u001b[0m\u001b[0mlevel\u001b[0m\u001b[0;34m)\u001b[0m\u001b[0;34m\u001b[0m\u001b[0m\n\u001b[0m\u001b[1;32m    376\u001b[0m         \u001b[0;32mif\u001b[0m \u001b[0mi_type\u001b[0m \u001b[0;34m==\u001b[0m \u001b[0;34m'degradation'\u001b[0m\u001b[0;34m:\u001b[0m\u001b[0;34m\u001b[0m\u001b[0m\n\u001b[1;32m    377\u001b[0m                 \u001b[0mfrom_y\u001b[0m \u001b[0;34m=\u001b[0m \u001b[0mstart_y\u001b[0m\u001b[0;34m\u001b[0m\u001b[0m\n",
      "\u001b[0;31mAttributeError\u001b[0m: 'str' object has no attribute 'frame'"
     ]
    },
    {
     "data": {
      "image/png": "[encoded data removed]",
      "text/plain": [
       "<Figure size 432x288 with 1 Axes>"
      ]
     },
     "metadata": {
      "needs_background": "light"
     },
     "output_type": "display_data"
    }
   ],
   "source": [
    "# set axis\n",
    "fig, ax = plt.subplots()\n",
    "ax.set_xlim(XMIN, XMAX)\n",
    "ax.set_ylim(YMIN, YMAX)\n",
    "ax.set_axis_off()\n",
    "\n",
    "# draw modules and interactions\n",
    "draw.draw_design(ax, design)\n",
    "\n",
    "# don't forget plt.show()! \n",
    "plt.show()"
   ]
  },
  {
   "cell_type": "code",
   "execution_count": null,
   "metadata": {},
   "outputs": [],
   "source": []
  }
 ],
 "metadata": {
  "kernelspec": {
   "display_name": "Python 2",
   "language": "python",
   "name": "python2"
  },
  "language_info": {
   "codemirror_mode": {
    "name": "ipython",
    "version": 2
   },
   "file_extension": ".py",
   "mimetype": "text/x-python",
   "name": "python",
   "nbconvert_exporter": "python",
   "pygments_lexer": "ipython2",
   "version": "2.7.15"
  }
 },
 "nbformat": 4,
 "nbformat_minor": 2
}
